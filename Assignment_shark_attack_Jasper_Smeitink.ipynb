{
  "nbformat": 4,
  "nbformat_minor": 0,
  "metadata": {
    "colab": {
      "name": "Assignment shark attack Jasper Smeitink",
      "provenance": [],
      "collapsed_sections": [],
      "authorship_tag": "ABX9TyP1OPltiXhwil6igca5AfPF",
      "include_colab_link": true
    },
    "kernelspec": {
      "name": "python3",
      "display_name": "Python 3"
    },
    "language_info": {
      "name": "python"
    }
  },
  "cells": [
    {
      "cell_type": "markdown",
      "metadata": {
        "id": "view-in-github",
        "colab_type": "text"
      },
      "source": [
        "<a href=\"https://colab.research.google.com/github/JasperDTC/Arguments_assignment/blob/main/Assignment_shark_attack_Jasper_Smeitink.ipynb\" target=\"_parent\"><img src=\"https://colab.research.google.com/assets/colab-badge.svg\" alt=\"Open In Colab\"/></a>"
      ]
    },
    {
      "cell_type": "markdown",
      "source": [
        "\n",
        "#1. What are the most dangerous types of sharks to humans?\n",
        "\n"
      ],
      "metadata": {
        "id": "VCJQhTNZ93E2"
      }
    },
    {
      "cell_type": "code",
      "execution_count": 54,
      "metadata": {
        "id": "4ZXfpnFZ-l1p"
      },
      "outputs": [],
      "source": [
        "import pandas as pd\n",
        "import numpy as np\n",
        "import matplotlib.pyplot as plt\n",
        "from io import StringIO\n",
        "import re\n",
        "from itertools import chain\n",
        "%reload_ext google.colab.data_table\n"
      ]
    },
    {
      "cell_type": "code",
      "source": [
        "df = pd.read_csv('https://raw.githubusercontent.com/Justdead12/Shark-Attack/main/attacks.csv', encoding = 'cp1252')"
      ],
      "metadata": {
        "id": "z6C-Yuwu-oWn"
      },
      "execution_count": 55,
      "outputs": []
    },
    {
      "cell_type": "code",
      "source": [
        "df"
      ],
      "metadata": {
        "id": "ztPq8T3nBCaz"
      },
      "execution_count": null,
      "outputs": []
    },
    {
      "cell_type": "code",
      "source": [
        "dfx = df.iloc[:6302]\n",
        "dfx"
      ],
      "metadata": {
        "id": "zXrIVMbHGkXX"
      },
      "execution_count": null,
      "outputs": []
    },
    {
      "cell_type": "code",
      "source": [
        "dfx.columns"
      ],
      "metadata": {
        "id": "vf0zDYIqIs1S"
      },
      "execution_count": null,
      "outputs": []
    },
    {
      "cell_type": "code",
      "source": [
        "dfx['Unnamed: 22'].unique()\n",
        "#Kolom unnamed 22 heeft alleen als unieke values nan en 'stopped here'. Die values lijken me niet relevant dus we gaan die kolom zo droppen."
      ],
      "metadata": {
        "colab": {
          "base_uri": "https://localhost:8080/"
        },
        "id": "mthiCTTHJM0m",
        "outputId": "0045a8a0-1bc2-4064-85c9-305d0f59a5cd"
      },
      "execution_count": null,
      "outputs": [
        {
          "output_type": "execute_result",
          "data": {
            "text/plain": [
              "array([nan, 'stopped here'], dtype=object)"
            ]
          },
          "metadata": {},
          "execution_count": 45
        }
      ]
    },
    {
      "cell_type": "code",
      "source": [
        "dfx['Unnamed: 23'].unique()\n",
        "#kolom unnamed 23 heeft geen relevante informatie in de rijen/cellen, namelijk: nan, Teramo, 'change filename'. Daarom kunnen we die kolom zo gaan droppen.\n",
        "\n",
        "#De kolommen pdf, href formula, href lijken me ook niet relevant voor onze analyse dus die gaan we ook droppen."
      ],
      "metadata": {
        "colab": {
          "base_uri": "https://localhost:8080/"
        },
        "id": "kOdPG02sJQon",
        "outputId": "d723131d-d6c2-4b1d-fab9-3009296a5b28"
      },
      "execution_count": null,
      "outputs": [
        {
          "output_type": "execute_result",
          "data": {
            "text/plain": [
              "array([nan, 'Teramo', 'change filename'], dtype=object)"
            ]
          },
          "metadata": {},
          "execution_count": 46
        }
      ]
    },
    {
      "cell_type": "code",
      "source": [
        "df2 = dfx.drop(columns= ['Unnamed: 22','Unnamed: 23', 'pdf', 'href formula', 'href', 'Case Number.1', 'Case Number.2'])\n",
        "df2.columns"
      ],
      "metadata": {
        "id": "hr-DI8JEEug6",
        "colab": {
          "base_uri": "https://localhost:8080/"
        },
        "outputId": "8daa6adc-6f84-482f-914f-f2dc415b284e"
      },
      "execution_count": 57,
      "outputs": [
        {
          "output_type": "execute_result",
          "data": {
            "text/plain": [
              "Index(['Case Number', 'Date', 'Year', 'Type', 'Country', 'Area', 'Location',\n",
              "       'Activity', 'Name', 'Sex ', 'Age', 'Injury', 'Fatal (Y/N)', 'Time',\n",
              "       'Species ', 'Investigator or Source', 'original order'],\n",
              "      dtype='object')"
            ]
          },
          "metadata": {},
          "execution_count": 57
        }
      ]
    },
    {
      "cell_type": "code",
      "source": [
        "df2a = df2.rename(columns={\"Species \":\"Species\", \"Sex \": \"Sex\"})\n",
        "df2a.columns\n",
        "df2a\n",
        "\n",
        "#Ik maak hier alvast enkele kopieën van het dataframe die ik straks bij de andere deelvragen kan gebruiken.\n",
        "df5 = df2a\n",
        "\n",
        "df6 = df2a\n",
        "\n",
        "df10 = df2a\n",
        "\n",
        "df14 = df2a\n",
        "\n",
        "\n"
      ],
      "metadata": {
        "id": "Ml1VTvRUeUHr"
      },
      "execution_count": 58,
      "outputs": []
    },
    {
      "cell_type": "code",
      "source": [
        "df2a['Type'].unique()\n",
        "#df2a['Type'].value_counts(dropna=False)\n",
        "#df2a[df2a['Type'] == np.nan]"
      ],
      "metadata": {
        "colab": {
          "base_uri": "https://localhost:8080/"
        },
        "id": "I8mJEoiLXs--",
        "outputId": "1151ba44-5f30-41bb-ff77-1486d76df1d7"
      },
      "execution_count": 71,
      "outputs": [
        {
          "output_type": "execute_result",
          "data": {
            "text/plain": [
              "array(['Boating', 'Unprovoked', 'Invalid', 'Provoked', 'Questionable',\n",
              "       'Sea Disaster', nan, 'Boat', 'Boatomg'], dtype=object)"
            ]
          },
          "metadata": {},
          "execution_count": 71
        }
      ]
    },
    {
      "cell_type": "code",
      "source": [
        "#We moeten alleen kijken naar shark attacks. Niet naar sea disasters, gevallen waar het onduidelijk is of het daadwerkelijk een haaienaanval was (m.a.w. 'Questionable'), \n",
        "# gevallen waar het zeker weten niet om een haaienaanval ging (m.a.w. 'Invalid' cases) en gevallen waar het type np.nan was omdat we zeker willen weten dat het om een haaienaanval ging.\n",
        "#Daarom nemen we die gevallen NIET mee in de 'Type' kolom. Dat doen we hieronder in de code cel.\n",
        "\n",
        "#We laten nu dus de gevallen buiten beschouwing waarbij het 'questionable' (m.a.w. onduidelijk) is of het daadwerkelijk om een haaienaanval ging.\n",
        "#Daarom zullen we nu dus sommige gevallen NIET meenemen waarbij het in werkelijkheid wél om een haaienaanval ging. Dat creërt een bias. Maar we kunnen er helaas weinig\n",
        "#aan doen om na te gaan of het echt niet om een haaienaanval ging. "
      ],
      "metadata": {
        "id": "u3tgnis_YG4g"
      },
      "execution_count": null,
      "outputs": []
    },
    {
      "cell_type": "code",
      "source": [
        "df2a = df2a[(df2a['Type'] == 'Unprovoked') | (df2a['Type'] == 'Provoked') | (df2a['Type'] == 'Boating') | (df2a['Type'] == 'Boat') | (df2a['Type'] == 'Boatomg')]\n",
        "df2a['Type'].unique()"
      ],
      "metadata": {
        "colab": {
          "base_uri": "https://localhost:8080/"
        },
        "id": "2wpnQB00Uxri",
        "outputId": "3fbdb84d-6edb-44e3-9264-d0b0aae5e019"
      },
      "execution_count": 72,
      "outputs": [
        {
          "output_type": "execute_result",
          "data": {
            "text/plain": [
              "array(['Boating', 'Unprovoked', 'Provoked', 'Boat', 'Boatomg'],\n",
              "      dtype=object)"
            ]
          },
          "metadata": {},
          "execution_count": 72
        }
      ]
    },
    {
      "cell_type": "code",
      "source": [
        "df2a['Type'].unique()"
      ],
      "metadata": {
        "colab": {
          "base_uri": "https://localhost:8080/"
        },
        "id": "5GqNtQIzbKpR",
        "outputId": "023c9264-b11f-44fe-d4d4-0d97c1dd0092"
      },
      "execution_count": 74,
      "outputs": [
        {
          "output_type": "execute_result",
          "data": {
            "text/plain": [
              "array(['Boating', 'Unprovoked', 'Provoked', 'Boat', 'Boatomg'],\n",
              "      dtype=object)"
            ]
          },
          "metadata": {},
          "execution_count": 74
        }
      ]
    },
    {
      "cell_type": "code",
      "source": [
        "#Nu gaan we kijken wat voor haaiensoorten er zoal gerapporteerd worden bij haaienaanvallen. "
      ],
      "metadata": {
        "id": "L7sE4rmbbhWB"
      },
      "execution_count": null,
      "outputs": []
    },
    {
      "cell_type": "code",
      "source": [
        "list(df2a['Species'].unique())"
      ],
      "metadata": {
        "id": "TZXQCubZhgYC"
      },
      "execution_count": null,
      "outputs": []
    },
    {
      "cell_type": "code",
      "source": [
        "df2a['Species'] = df2a['Species'].str.lower()\n",
        "\n",
        "df2a[\"Species\"] = df2a[\"Species\"].fillna(\"\")\n",
        "df2a"
      ],
      "metadata": {
        "id": "Ub9IirI_AGeX"
      },
      "execution_count": null,
      "outputs": []
    },
    {
      "cell_type": "code",
      "source": [
        "df2a['New_species'] = 0\n",
        "df2a"
      ],
      "metadata": {
        "id": "SfFDh_d2AD3q"
      },
      "execution_count": null,
      "outputs": []
    },
    {
      "cell_type": "code",
      "source": [
        "#Nu gaan we nieuwe values maken voor de verschillende haaiensoorten. De informatie in de rijen van de originele specie-variabele is niet beknopt genoeg. \n",
        "#Er zit namelijk informatie in over de lengte e.d. We willen alleen haaiensoorten (m.a.w. species) als value in de New_species kolom.\n",
        "\n",
        "df2a['New_species'][df2a['Species'].str.contains('or')] = 0\n",
        "df2a['New_species'][df2a['Species'].str.contains('porbeagle')] = 'prbeagle'\n",
        "\n",
        "df2a['New_species'][df2a['Species'].str.contains('angelshark')] = '4ngelshark'\n",
        "df2a['New_species'][df2a['Species'].str.contains('angel')] = '4ngelshark'\n",
        "\n",
        "df2a['New_species'][df2a['Species'].str.contains('basking')] = 'basking'\n",
        "\n",
        "df2a['New_species'][df2a['Species'].str.contains('blacknose')] = 'bl4cknose'\n",
        "\n",
        "df2a['New_species'][df2a['Species'].str.contains('blacktip')] = 'blacktip'\n",
        "\n",
        "df2a['New_species'][df2a['Species'].str.contains('bonnethead')] = 'bonnethead'\n",
        "\n",
        "\n",
        "df2a['New_species'][df2a['Species'].str.contains('whale')] = 'whale'\n",
        "df2a['New_species'][df2a['Species'].str.contains('bronze whaler')] = 'copper shark'\n",
        "df2a['New_species'][df2a['Species'].str.contains('copper')] = 'copper shark'\n",
        "df2a['New_species'][df2a['Species'].str.contains('narrowtooth')] = 'copper shark'\n",
        "\n",
        "\n",
        "df2a['New_species'][df2a['Species'].str.contains('bull')] = 'bull'\n",
        "\n",
        "df2a['New_species'][df2a['Species'].str.contains('caribbean reef')] = 'caribbean reef'\n",
        "\n",
        "df2a['New_species'][df2a['Species'].str.contains('cookie')] = 'cookiecutter'\n",
        "\n",
        "df2a['New_species'][df2a['Species'].str.contains('dusky')] = 'dusky'\n",
        "\n",
        "df2a['New_species'][df2a['Species'].str.contains('frilled')] = 'frilled'\n",
        "\n",
        "df2a['New_species'][df2a['Species'].str.contains('galapagos')] = 'galapagos'\n",
        "\n",
        "df2a['New_species'][df2a['Species'].str.contains('goblin')] = 'goblin'\n",
        "\n",
        "# white shark en great white shark zijn dezelfde species, zie: \n",
        "#http://www.elasmo-research.org/education/white_shark/ws_or_gws.htm#:~:text=The%20terms%20%22White%20Shark%22%20and,one%20species%3A%20the%20White%20Shark.\n",
        "\n",
        "\"\"\"Je hebt white tip en great white haaien. Dit zijn verschillende soorten. Echter hebben ze allebei 'white' in de naam. \n",
        "Dit is verraderlijk. Daarom definiëren we ze hier gelijk. \"\"\"\n",
        "df2a['New_species'][df2a['Species'].str.contains('great white')] = 'great white'\n",
        "df2a['New_species'][df2a['Species'].str.contains('white shark')] = 'great white'\n",
        "\n",
        "df2a['New_species'][df2a['Species'].str.contains('white tip')] = 'whitetip'\n",
        "df2a['New_species'][df2a['Species'].str.contains('whitetip')] = 'whitetip'\n",
        "\n",
        "df2a['New_species'][df2a['Species'].str.contains('greenland')] = 'greenland'\n",
        "df2a['New_species'][df2a['Species'].str.contains('green land')] = 'greenland'\n",
        "\n",
        "df2a['New_species'][df2a['Species'].str.contains('grey reef')] = 'grey reef'\n",
        "df2a['New_species'][df2a['Species'].str.contains('greyreef')] = 'grey reef'\n",
        "\n",
        "df2a['New_species'][df2a['Species'].str.contains('hammerhead')] = 'hammerhead'\n",
        "df2a['New_species'][df2a['Species'].str.contains('hammer head')] = 'hammerhead'\n",
        "\n",
        "df2a['New_species'][df2a['Species'].str.contains('horn shark')] = 'horn shark'\n",
        "df2a['New_species'][df2a['Species'].str.contains('hornshark')] = 'horn shark'\n",
        "\n",
        "df2a['New_species'][df2a['Species'].str.contains('kite fin')] = 'kitefin'\n",
        "df2a['New_species'][df2a['Species'].str.contains('kitefin')] = 'kitefin'\n",
        "\n",
        "df2a['New_species'][df2a['Species'].str.contains('lemon')] = 'lemon'\n",
        "df2a['New_species'][df2a['Species'].str.contains('leopard')] = 'leopard'\n",
        "\n",
        "df2a['New_species'][df2a['Species'].str.contains('mako')] = 'longfin mako'\n",
        "\n",
        "df2a['New_species'][df2a['Species'].str.contains('mega mouth')] = 'megamouth'\n",
        "df2a['New_species'][df2a['Species'].str.contains('megamouth')] = 'megamouth'\n",
        "\n",
        "df2a['New_species'][df2a['Species'].str.contains('nurse')] = 'nurse'\n",
        "\n",
        "df2a['New_species'][df2a['Species'].str.contains('sleeper')] = 'pacific sleeper'\n",
        "\n",
        "df2a['New_species'][df2a['Species'].str.contains('pygmy')] = 'pygmy'\n",
        "\n",
        "df2a['New_species'][df2a['Species'].str.contains('pyjama')] = 'pyjama'\n",
        "\n",
        "df2a['New_species'][df2a['Species'].str.contains('grey reef')] = 'grey reef'\n",
        "\n",
        "df2a['New_species'][df2a['Species'].str.contains('salmon')] = 'salmon shark'\n",
        "\n",
        "\n",
        "#sand tiger en sand shark zijn dezelfde soort haaien. \n",
        "#https://en.wikipedia.org/wiki/Sand_shark\n",
        "#Een tiger shark is echter een andere soort. \n",
        "#https://en.wikipedia.org/wiki/Tiger_shark\n",
        "df2a['New_species'][df2a['Species'].str.contains('tiger')] = 'tiger'\n",
        "df2a['New_species'][df2a['Species'].str.contains('sandtiger')] = 'sand t1ger'\n",
        "df2a['New_species'][df2a['Species'].str.contains('sand tiger')] = 'sand t1ger'\n",
        "df2a['New_species'][df2a['Species'].str.contains('sand shark')] = 'sand t1ger'\n",
        "\n",
        "df2a['New_species'][df2a['Species'].str.contains('mako')] = 'shortfin mako'\n",
        "df2a['New_species'][df2a['Species'].str.contains('silky')] = 'silky'\n",
        "\n",
        "df2a['New_species'][df2a['Species'].str.contains('sixgill')] = 'sixgill'\n",
        "df2a['New_species'][df2a['Species'].str.contains('six gill')] = 'sixgill'\n",
        "df2a['New_species'][df2a['Species'].str.contains('sixgil')] = 'sixgill'\n",
        "df2a['New_species'][df2a['Species'].str.contains('six gil')] = 'sixgill'\n",
        "\n",
        "df2a['New_species'][df2a['Species'].str.contains('sleeper')] = 'sleeper'\n",
        "df2a['New_species'][df2a['Species'].str.contains('spinner')] = 'spinner'\n",
        "\n",
        "df2a['New_species'][df2a['Species'].str.contains('spiny dogfish')] = 'spiny dogfish'\n",
        "df2a['New_species'][df2a['Species'].str.contains('spiny dog fish')] = 'spiny dogfish'\n",
        "df2a['New_species'][df2a['Species'].str.contains('spiny')] = 'spiny dogfish'\n",
        "\n",
        "df2a['New_species'][df2a['Species'].str.contains('thresher')] = 'thresher'\n",
        "\n",
        "df2a['New_species'][df2a['Species'].str.contains('dogfish')] = 'viper (dogfish)'\n",
        "df2a['New_species'][df2a['Species'].str.contains('viper shark')] = 'viper (dogfish)'\n",
        "df2a['New_species'][df2a['Species'].str.contains('vipershark')] = 'viper (dogfish)'\n",
        "df2a['New_species'][df2a['Species'].str.contains('viper')] = 'viper (dogfish)'\n",
        "\n",
        "df2a['New_species'][df2a['Species'].str.contains('wobbegong')] = 'wobbegong'\n",
        "\n",
        "df2a['New_species'][df2a['Species'].str.contains('zebra')] = 'zebra shark'\n",
        "\n",
        "\n",
        "df2a['New_species'][df2a['Species'].str.contains('\\?')] = 0\n",
        "df2a['New_species'][df2a['Species'].str.contains('possibly')] = 0\n",
        "df2a['New_species'][df2a['Species'].str.contains('questionable')] = 0\n",
        "df2a['New_species'][df2a['Species'].str.contains('not confirmed')] = 0\n",
        "df2a['New_species'][df2a['Species'].str.contains('invalid incident')] = 0\n",
        "\n",
        "\n",
        "\n",
        "\n",
        "\n"
      ],
      "metadata": {
        "id": "DRuT3eKVBw6R"
      },
      "execution_count": null,
      "outputs": []
    },
    {
      "cell_type": "code",
      "source": [
        "df2a"
      ],
      "metadata": {
        "id": "QBdHPPeh6J6b"
      },
      "execution_count": null,
      "outputs": []
    },
    {
      "cell_type": "code",
      "source": [
        "df2a['New_species'].value_counts()"
      ],
      "metadata": {
        "id": "DrUdYYgvBl7_",
        "colab": {
          "base_uri": "https://localhost:8080/"
        },
        "outputId": "25754151-2f6d-42d6-c11c-853df998b5e6"
      },
      "execution_count": 80,
      "outputs": [
        {
          "output_type": "execute_result",
          "data": {
            "text/plain": [
              "0                  3908\n",
              "great white         615\n",
              "tiger               235\n",
              "bull                159\n",
              "nurse                92\n",
              "blacktip             63\n",
              "copper shark         61\n",
              "shortfin mako        53\n",
              "wobbegong            46\n",
              "hammerhead           44\n",
              "lemon                35\n",
              "sand t1ger           33\n",
              "spinner              33\n",
              "whitetip             26\n",
              "caribbean reef       18\n",
              "grey reef            17\n",
              "dusky                13\n",
              "whale                12\n",
              "prbeagle              7\n",
              "basking               7\n",
              "4ngelshark            6\n",
              "galapagos             6\n",
              "thresher              5\n",
              "silky                 4\n",
              "viper (dogfish)       3\n",
              "goblin                2\n",
              "salmon shark          2\n",
              "cookiecutter          2\n",
              "leopard               2\n",
              "sixgill               1\n",
              "Name: New_species, dtype: int64"
            ]
          },
          "metadata": {},
          "execution_count": 80
        }
      ]
    },
    {
      "cell_type": "code",
      "source": [
        "df2a['New_species'].replace(0 , np.nan, inplace=True)"
      ],
      "metadata": {
        "id": "md7jE6EkGFZG",
        "colab": {
          "base_uri": "https://localhost:8080/"
        },
        "outputId": "87fc491e-ff4c-4ebe-c176-99f789d002fb"
      },
      "execution_count": 81,
      "outputs": [
        {
          "output_type": "stream",
          "name": "stderr",
          "text": [
            "/usr/local/lib/python3.7/dist-packages/pandas/core/generic.py:6619: SettingWithCopyWarning: \n",
            "A value is trying to be set on a copy of a slice from a DataFrame\n",
            "\n",
            "See the caveats in the documentation: https://pandas.pydata.org/pandas-docs/stable/user_guide/indexing.html#returning-a-view-versus-a-copy\n",
            "  return self._update_inplace(result)\n"
          ]
        }
      ]
    },
    {
      "cell_type": "code",
      "source": [
        "df2a"
      ],
      "metadata": {
        "id": "cfsYDNw9GfJT"
      },
      "execution_count": null,
      "outputs": []
    },
    {
      "cell_type": "code",
      "source": [
        "df2a['New_species'].value_counts()"
      ],
      "metadata": {
        "id": "zBC2fDsgGkYc",
        "colab": {
          "base_uri": "https://localhost:8080/"
        },
        "outputId": "504a531f-f6f0-4e1a-9683-84eac9fd33e3"
      },
      "execution_count": 85,
      "outputs": [
        {
          "output_type": "execute_result",
          "data": {
            "text/plain": [
              "great white        615\n",
              "tiger              235\n",
              "bull               159\n",
              "nurse               92\n",
              "blacktip            63\n",
              "copper shark        61\n",
              "shortfin mako       53\n",
              "wobbegong           46\n",
              "hammerhead          44\n",
              "lemon               35\n",
              "sand t1ger          33\n",
              "spinner             33\n",
              "whitetip            26\n",
              "caribbean reef      18\n",
              "grey reef           17\n",
              "dusky               13\n",
              "whale               12\n",
              "prbeagle             7\n",
              "basking              7\n",
              "4ngelshark           6\n",
              "galapagos            6\n",
              "thresher             5\n",
              "silky                4\n",
              "viper (dogfish)      3\n",
              "goblin               2\n",
              "salmon shark         2\n",
              "cookiecutter         2\n",
              "leopard              2\n",
              "sixgill              1\n",
              "Name: New_species, dtype: int64"
            ]
          },
          "metadata": {},
          "execution_count": 85
        }
      ]
    },
    {
      "cell_type": "code",
      "source": [
        "#1. What are the most dangerous types of sharks to humans?\n",
        "\n",
        "#Bij het overgrote deel van de incidenten met haaien is de haaiensoort onduidelijk of onbekend (in 3908 gevallen). In ~1000 gevallen is de haaiensoort wel bekend.\n",
        "#We kunnen daarom niet met zekerheid zeggen welke haaiensoorten het meest betrokken zijn bij incidenten. \n",
        "#Het kan namelijk zo zijn dat witte haaien (Great white sharks) de bekendste haaien zijn onder mensen, bijvoorbeeld door hun rol in films, en dat daarom great \n",
        "#white sharks het meest gerapporteerd worden bij incidenten terwijl in werkelijkheid een andere haaiensoort betrokken was bij de aanval.\n",
        "\n",
        "#We gaan er dus van uit dat de haaiensoort die per incident gerapporteerd wordt klopt, maar het kan dus zo zijn dat de haai in werkelijkheid van een andere soort was.\n",
        "\n",
        "\n",
        "\"\"\"Verder kun je ‘most dangerous/meest gevaarljk’ op verschillende manieren definiëren. \n",
        "Bijvoorbeeld als de haaiensoort die het meest wordt gerapporteerd bij aanvallen. \n",
        "Dat kun je doen door naar de frequentietabel hieronder te kijken. Die geeft per haaiensoort aan hoeveel aanvallen er gerapporteerd zijn. \"\"\"\n",
        "df2a['New_species'].value_counts()\n",
        "\n",
        "#Uit deze frequentielijst blijkt dat great white sharks, tiger sharks en bull sharks opeenvolgend het meest betrokken zijn bij aanvallen op mensen. "
      ],
      "metadata": {
        "colab": {
          "base_uri": "https://localhost:8080/",
          "height": 55
        },
        "id": "q3IPFsQTasAj",
        "outputId": "e7ae2c51-fc42-49f1-d985-9d05dbddbc2e"
      },
      "execution_count": null,
      "outputs": [
        {
          "output_type": "execute_result",
          "data": {
            "text/plain": [
              "'Je zou \"meest gevaarlijke haaiensoort\" ook kunnen definiëren als de haaiensoort die relatief de meeste fatale incidenten veroorzaakt\\nten opzichte van het totale aantal incidenten waarbij die haaiensoort betrokken is. '"
            ],
            "application/vnd.google.colaboratory.intrinsic+json": {
              "type": "string"
            }
          },
          "metadata": {},
          "execution_count": 72
        }
      ]
    },
    {
      "cell_type": "code",
      "source": [
        "\"\"\"Je kunt most dangerous sharks ook definiëren als de haaiensoorten die de meeste doden veroorzaken, dus de meeste fatale incidenten.\n",
        "Om dat te kunnen meten moeten we de dataset filteren op fatale incidenten. Dat doe je als volgt: \"\"\"\n",
        "fatal_incidents_only = df2a['Fatal (Y/N)']=='Y'\n",
        "fatal_incidents_only\n",
        "df2a[fatal_incidents_only][\"New_species\"].value_counts()\n",
        "#Hieruit blijkt wederom dat great white sharks, tiger sharks en bull sharks het vaakst betrokken zijn bij fatale incidenten.\n"
      ],
      "metadata": {
        "colab": {
          "base_uri": "https://localhost:8080/"
        },
        "id": "zFlG7WGkKgHs",
        "outputId": "4b07a213-11fa-4cf1-e207-8344c6dbaf39"
      },
      "execution_count": 83,
      "outputs": [
        {
          "output_type": "execute_result",
          "data": {
            "text/plain": [
              "great white      138\n",
              "tiger             59\n",
              "bull              35\n",
              "whitetip           4\n",
              "shortfin mako      2\n",
              "copper shark       2\n",
              "whale              2\n",
              "galapagos          2\n",
              "basking            2\n",
              "hammerhead         2\n",
              "lemon              1\n",
              "Name: New_species, dtype: int64"
            ]
          },
          "metadata": {},
          "execution_count": 83
        }
      ]
    },
    {
      "cell_type": "code",
      "source": [
        "\"\"\"Je zou \"meest gevaarlijke haaiensoort\" ook kunnen definiëren als de haaiensoort die relatief de meeste fatale incidenten veroorzaakt\n",
        "ten opzichte van het totale aantal incidenten waarbij die haaiensoort betrokken is. \"\"\" \n",
        "\n",
        "(df2a[fatal_incidents_only][\"New_species\"].value_counts()) / (df2a['New_species'].value_counts()) * 100\n",
        "\n",
        "#Hieruit blijkt dat opeenvolgend galapagos haaien (33,3%), basking haaien (28,6%) en tiger haaien (25,1%) relatief de meeste fatale incidenten veroorzaken. Wel moet hier bij gezegd worden dat bij galapagos haaien \n",
        "#maar 2 dodelijke gevallen, bij basking haaien maar 2 dodelijke gevallen en bij tiger haaien 66 dodelijke gevallen gerapporteerd worden. Bij galapagos haaien en basking haaien zijn dus eigenlijk te weinig gevallen \n",
        "#gerapporteerd om een betrouwbaar antwoord te geven over hun dodelijkheid.\n",
        "#Tiger haaien lijken wel duidelijk dodelijker te zijn dan de andere haaiensoorten. 66 van de 249 incidenten zijn daar fataal. Dat zijn hogere cijfers en daarom kunnen we bij die soort \n",
        "#betrouwbaardere uitspraken over de dodelijkheid doen.\n",
        "\n",
        "#Bij Bull sharks (35 van de 159) en great white sharks (138 v/d 615) zijn respectievelijk  22,0% en 22,4% van de incidenten fataal. We kunnen dus concluderen \n",
        "#dat opeenvolgend Tiger sharks, great white sharks en bull sharks relatief het meest dodelijk zijn."
      ],
      "metadata": {
        "id": "Y093lEysdr7s",
        "colab": {
          "base_uri": "https://localhost:8080/"
        },
        "outputId": "74746a88-d9c3-46fb-df9b-47a9a06b84a6"
      },
      "execution_count": 84,
      "outputs": [
        {
          "output_type": "execute_result",
          "data": {
            "text/plain": [
              "4ngelshark               NaN\n",
              "basking            28.571429\n",
              "blacktip                 NaN\n",
              "bull               22.012579\n",
              "caribbean reef           NaN\n",
              "cookiecutter             NaN\n",
              "copper shark        3.278689\n",
              "dusky                    NaN\n",
              "galapagos          33.333333\n",
              "goblin                   NaN\n",
              "great white        22.439024\n",
              "grey reef                NaN\n",
              "hammerhead          4.545455\n",
              "lemon               2.857143\n",
              "leopard                  NaN\n",
              "nurse                    NaN\n",
              "prbeagle                 NaN\n",
              "salmon shark             NaN\n",
              "sand t1ger               NaN\n",
              "shortfin mako       3.773585\n",
              "silky                    NaN\n",
              "sixgill                  NaN\n",
              "spinner                  NaN\n",
              "thresher                 NaN\n",
              "tiger              25.106383\n",
              "viper (dogfish)          NaN\n",
              "whale              16.666667\n",
              "whitetip           15.384615\n",
              "wobbegong                NaN\n",
              "Name: New_species, dtype: float64"
            ]
          },
          "metadata": {},
          "execution_count": 84
        }
      ]
    },
    {
      "cell_type": "markdown",
      "source": [
        "# **2. Are children more likely to be attacked by sharks?**\n",
        "\n",
        "Aanname/assumption:\n",
        "\n",
        "-Iedereen die jonger dan 18 jaar is beschouw ik als een kind.\n",
        "\n",
        "-Iedereen die 18 jaar of ouder is beschouw ik als een volwassene.\n",
        "\n",
        "Het is natuurlijk gebruikelijk om op basis van deze leeftijden onderscheid te maken tussen volwassenen en kinderen, maar misschien speelt lengte en gewicht een belangrijkere rol bij het al dan niet aangevallen worden door haaien. \n",
        "\n",
        "Namelijk, haaien zullen misschien eerder kleine personen aanvallen (want makkelijkere prooi) dan grotere personen. Dat zou dan wellicht ook een betere onderzoeksvraag zijn, maar dan moet je daar wel data over hebben. Dat hebben we hier niet. Vandaar dat we alleen gaan kijken naar leeftijd."
      ],
      "metadata": {
        "id": "YGfipudfzg9C"
      }
    },
    {
      "cell_type": "code",
      "source": [
        "df2a['Age'].unique()"
      ],
      "metadata": {
        "id": "9z3cigf_y7Mm",
        "colab": {
          "base_uri": "https://localhost:8080/"
        },
        "outputId": "2d8fe137-61f1-460d-a5ad-c1ce7d6326db"
      },
      "execution_count": 88,
      "outputs": [
        {
          "output_type": "execute_result",
          "data": {
            "text/plain": [
              "array(['57', '11', nan, '18', '52', '15', '12', '32', '10', '34', '30',\n",
              "       '60', '33', '29', '54', '41', '37', '19', '25', '69', '38', '55',\n",
              "       '35', '45', '40s', '28', '20', '24', '26', '49', '14', '22', '7',\n",
              "       '31', '17', '40', '13', '42', '3', '50', '46', '16', '82', '48',\n",
              "       '20s', '21', '51', '39', '58', 'Teen', '47', '61', '65', '73',\n",
              "       '36', '66', '43', '60s', '9', '72', '59', '6', '64', '23', '71',\n",
              "       '44', '27', '62', '68', '63', '70', '18 months', '53', '30s',\n",
              "       '50s', '8', 'teen', '77', '74', '56', '28 & 26', '5', '86',\n",
              "       '18 or 20', '12 or 13', '46 & 34', '28, 23 & 30', '36 & 26', '84',\n",
              "       '\\xa0 ', ' ', '30 or 36', '6½', '21 & ?', '33 or 37', 'mid-30s',\n",
              "       ' 30', ' 28', '20?', \"60's\", '32 & 30', '87', 'Elderly', '75',\n",
              "       '21 or 26', '20 ', '>50', '18 to 22', 'adult', '9 & 12',\n",
              "       '9 months', '25 to 35', '23 & 26', '1', '(adult)', '33 & 37',\n",
              "       '25 or 28', '30 & 32', '50 & 30', '17 & 35', 'X', '\"middle-age\"',\n",
              "       '13 or 18', '33 & 26', 'MAKE LINE GREEN', ' 43', '81', '\"young\"',\n",
              "       '7 or 8', '78', '17 & 16', '8 or 10', 'Both 11', '9 or 10',\n",
              "       'young', '36 & 23', '  ', 'A.M.', '?    &   14', '10 or 12',\n",
              "       '31 or 33', '2½', '13 or 14'], dtype=object)"
            ]
          },
          "metadata": {},
          "execution_count": 88
        }
      ]
    },
    {
      "cell_type": "code",
      "source": [
        "#df2a['New_species'].replace(0 , np.nan, inplace=True)\n",
        "\n",
        "df2a['Age_recode'] = df['Age'].replace({\n",
        "    \"Teen\": 'child', \"18 months\": 'child', '30s':'adult', '50s':'adult', 'teen': 'adult', '28 & 26':'adult2',\n",
        "     '18 or 20': 'adult', '12 or 13': 'child', '46 & 34': 'adult2', '28, 23 & 30':'adult3', 'Teens':'child2', '36 & 26': 'adult2',\n",
        "     '8 or 10': 'child', '\\xa0 ': None, ' ': None, '30 or 36': 'adult', '6½': 'child', '21 & ?': None, '33 or 37': 'adult',\n",
        "     'mid-30s': 'adult', '23 & 20': 'adult2', '7      &    31': 'child1_adult1', ' 28': 'adult', '20?': None, \"60's\": 'adult', '32 & 30': 'adult2',\n",
        "     '16 to 18': None, 'Elderly': 'adult', 'mid-20s': 'adult', 'Ca. 33': 'adult', '74 ': 'adult', '45 ': 'adult', '21 or 26': 'adult',\n",
        "     '20 ': 'adult', '>50': 'adult', '18 to 22': 'adult', '9 & 12':'child2', '? & 19': None, '9 months': 'child', '25 to 35': 'adult',\n",
        "     '23 & 26': 'adult2', '1': 'child', '(adult)': 'adult', '33 & 57': 'adult2', '25 or 28': 'adult', '37, 67, 35, 27,  ? & 27': 'adult5',\n",
        "     '21, 34,24 & 35': 'adult4', '30 & 32': 'adult2', '50 & 30': 'adult2', '17 & 35': 'child1_adult1', 'X': None, '\"middle-age\"': 'adult',\n",
        "     '13 or 18':None, '34 & 19': 'adult2', '33 & 26': 'adult2', '2 to 3 months': 'child', 'MAKE LINE GREEN': None, ' 43': 'adult', '\"young\"': None,\n",
        "     '7 or 8': 'child', '17 & 16': 'child2', 'F': None, 'Both 11': 'child2', '9 or 10': 'child', 'young': None, '36 & 23': 'adult2', '  ': None,\n",
        "     'A.M.': None, '?    &   14': None, '10 or 12': 'child', '31 or 33': 'adult', '2½': 'child', '13 or 14': 'child',\n",
        "     '33 & 37': 'adult2', ' 30': 'adult', '20s': 'adult', '40s': 'adult', '60s': 'adult'\n",
        "})\n",
        "\n",
        "df2a['Age_recode'].unique()"
      ],
      "metadata": {
        "colab": {
          "base_uri": "https://localhost:8080/"
        },
        "id": "StX9aZGIz1X_",
        "outputId": "873c2a96-bad7-4f14-88f1-161d30b3417a"
      },
      "execution_count": 89,
      "outputs": [
        {
          "output_type": "stream",
          "name": "stderr",
          "text": [
            "/usr/local/lib/python3.7/dist-packages/ipykernel_launcher.py:15: SettingWithCopyWarning: \n",
            "A value is trying to be set on a copy of a slice from a DataFrame.\n",
            "Try using .loc[row_indexer,col_indexer] = value instead\n",
            "\n",
            "See the caveats in the documentation: https://pandas.pydata.org/pandas-docs/stable/user_guide/indexing.html#returning-a-view-versus-a-copy\n",
            "  from ipykernel import kernelapp as app\n"
          ]
        },
        {
          "output_type": "execute_result",
          "data": {
            "text/plain": [
              "array(['57', '11', nan, '18', '52', '15', '12', '32', '10', '34', '30',\n",
              "       '60', '33', '29', '54', '41', '37', '19', '25', '69', '38', '55',\n",
              "       '35', '45', 'adult', '28', '20', '24', '26', '49', '14', '22', '7',\n",
              "       '31', '17', '40', '13', '42', '3', '50', '46', '16', '82', '48',\n",
              "       '21', '51', '39', '58', 'child', '47', '61', '65', '73', '36',\n",
              "       '66', '43', '9', '72', '59', '6', '64', '23', '71', '44', '27',\n",
              "       '62', '68', '63', '70', '53', '8', '77', '74', '56', 'adult2', '5',\n",
              "       '86', 'adult3', '84', None, '87', '75', 'child2', 'child1_adult1',\n",
              "       '81', '78'], dtype=object)"
            ]
          },
          "metadata": {},
          "execution_count": 89
        }
      ]
    },
    {
      "cell_type": "code",
      "source": [
        "pd.set_option('display.max_rows', 200)\n",
        "df2a['Age_recode'].value_counts()"
      ],
      "metadata": {
        "id": "Fq6B8x5IA8BC",
        "colab": {
          "base_uri": "https://localhost:8080/"
        },
        "outputId": "c16c98b3-9526-4064-9893-3cc0fddba6a4"
      },
      "execution_count": 90,
      "outputs": [
        {
          "output_type": "execute_result",
          "data": {
            "text/plain": [
              "18               142\n",
              "17               139\n",
              "15               137\n",
              "16               136\n",
              "19               132\n",
              "20               131\n",
              "22               110\n",
              "21               110\n",
              "25               100\n",
              "24                97\n",
              "14                95\n",
              "13                92\n",
              "26                79\n",
              "28                75\n",
              "29                75\n",
              "23                73\n",
              "30                71\n",
              "27                71\n",
              "12                69\n",
              "35                65\n",
              "32                60\n",
              "40                50\n",
              "10                50\n",
              "34                48\n",
              "38                45\n",
              "adult             44\n",
              "31                44\n",
              "33                42\n",
              "37                38\n",
              "41                37\n",
              "36                35\n",
              "43                34\n",
              "42                34\n",
              "39                33\n",
              "11                32\n",
              "9                 31\n",
              "50                31\n",
              "52                30\n",
              "47                27\n",
              "45                26\n",
              "44                26\n",
              "8                 26\n",
              "46                25\n",
              "48                25\n",
              "49                23\n",
              "55                23\n",
              "child             21\n",
              "7                 18\n",
              "51                18\n",
              "57                16\n",
              "54                16\n",
              "58                15\n",
              "61                13\n",
              "6                 13\n",
              "60                13\n",
              "59                11\n",
              "adult2            10\n",
              "53                10\n",
              "69                10\n",
              "56                 7\n",
              "63                 7\n",
              "70                 6\n",
              "5                  6\n",
              "68                 5\n",
              "62                 5\n",
              "65                 4\n",
              "66                 4\n",
              "64                 4\n",
              "71                 3\n",
              "3                  3\n",
              "child2             3\n",
              "73                 2\n",
              "78                 2\n",
              "77                 2\n",
              "82                 1\n",
              "72                 1\n",
              "74                 1\n",
              "adult3             1\n",
              "84                 1\n",
              "87                 1\n",
              "75                 1\n",
              "child1_adult1      1\n",
              "81                 1\n",
              "86                 1\n",
              "Name: Age_recode, dtype: int64"
            ]
          },
          "metadata": {},
          "execution_count": 90
        }
      ]
    },
    {
      "cell_type": "markdown",
      "source": [
        "Ik heb nu alle waarden omgezet naar een eenvoudige string of een nummer. \n",
        "\n",
        "Maar, wat ik eigenljk wil is dat alle cases kleiner of gelijk aan 17 één value worden.\n",
        "\n",
        "En dat iedereen 18 jaar of ouder ook één value wordt.\n",
        "\n",
        "Daarnaast wil ik dat child2, adult2, adult3, adult4 en adult5 ook een integer worden. \n",
        "\n",
        "Dat kan het makkelijkste als alle values in deze kolom een integer worden. \n",
        "Dus ik ga weer recoden (replace).\n",
        "\n",
        "\n",
        "\n",
        "1 kind (child) krijgt de code 1000 (persoon onder onder de 18 jaar)\n",
        "\n",
        "2 kinderen (child2) krijgt de code 1002\n",
        "\n",
        "1 volwassene (adult) krijgt de code 2000 (persoon van 18 jaar of ouder)\n",
        "\n",
        "2 volwassenen (adult2) krijgt de code 2002\n",
        "\n",
        "3 volwassenen (adult3) krijgt de code 2003\n",
        "\n",
        "4 volwassenen (adult4) krijgt de code 2004\n",
        "\n",
        "5 volwassenen (adult5) krijgt de code 2005\n",
        "\n",
        "1 volwassene, 1 kind (child1_adult1) krijgt de code 3000 \n",
        "\n"
      ],
      "metadata": {
        "id": "W5fVkavzHiFP"
      }
    },
    {
      "cell_type": "code",
      "source": [
        "df2a['Age_recode2'] = df2a['Age_recode'].replace({\n",
        "    'child': 1000, 'child2': 1002, 'adult': 2000, 'adult2': 2002, 'adult3': 2003, 'adult4': 2004, 'adult5': 2005, 'child1_adult1': 3000, None: np.nan\n",
        "})\n",
        "\n",
        "df2a['Age_recode2'].unique()"
      ],
      "metadata": {
        "colab": {
          "base_uri": "https://localhost:8080/"
        },
        "id": "76npv494Hgyu",
        "outputId": "24c663d1-e691-4a40-9a3a-79e3d5b51d6d"
      },
      "execution_count": 91,
      "outputs": [
        {
          "output_type": "stream",
          "name": "stderr",
          "text": [
            "/usr/local/lib/python3.7/dist-packages/ipykernel_launcher.py:2: SettingWithCopyWarning: \n",
            "A value is trying to be set on a copy of a slice from a DataFrame.\n",
            "Try using .loc[row_indexer,col_indexer] = value instead\n",
            "\n",
            "See the caveats in the documentation: https://pandas.pydata.org/pandas-docs/stable/user_guide/indexing.html#returning-a-view-versus-a-copy\n",
            "  \n"
          ]
        },
        {
          "output_type": "execute_result",
          "data": {
            "text/plain": [
              "array(['57', '11', nan, '18', '52', '15', '12', '32', '10', '34', '30',\n",
              "       '60', '33', '29', '54', '41', '37', '19', '25', '69', '38', '55',\n",
              "       '35', '45', 2000, '28', '20', '24', '26', '49', '14', '22', '7',\n",
              "       '31', '17', '40', '13', '42', '3', '50', '46', '16', '82', '48',\n",
              "       '21', '51', '39', '58', 1000, '47', '61', '65', '73', '36', '66',\n",
              "       '43', '9', '72', '59', '6', '64', '23', '71', '44', '27', '62',\n",
              "       '68', '63', '70', '53', '8', '77', '74', '56', 2002, '5', '86',\n",
              "       2003, '84', '87', '75', 1002, 3000, '81', '78'], dtype=object)"
            ]
          },
          "metadata": {},
          "execution_count": 91
        }
      ]
    },
    {
      "cell_type": "code",
      "source": [
        "df3 = df2a['Age_recode2'].astype('float')\n",
        "df3"
      ],
      "metadata": {
        "colab": {
          "base_uri": "https://localhost:8080/"
        },
        "id": "7pUctl-GNFcW",
        "outputId": "918dcbd7-c01d-4a90-b24b-821b8e32fdff"
      },
      "execution_count": 92,
      "outputs": [
        {
          "output_type": "execute_result",
          "data": {
            "text/plain": [
              "0       57.0\n",
              "1       11.0\n",
              "3        NaN\n",
              "4        NaN\n",
              "5        NaN\n",
              "        ... \n",
              "6297     NaN\n",
              "6298     NaN\n",
              "6299     NaN\n",
              "6300     NaN\n",
              "6301    15.0\n",
              "Name: Age_recode2, Length: 5510, dtype: float64"
            ]
          },
          "metadata": {},
          "execution_count": 92
        }
      ]
    },
    {
      "cell_type": "code",
      "source": [
        "df3.unique()"
      ],
      "metadata": {
        "colab": {
          "base_uri": "https://localhost:8080/"
        },
        "id": "j3E98xeaeTR8",
        "outputId": "40dc1609-b8dc-4165-9c40-ae58b7f81faf"
      },
      "execution_count": 93,
      "outputs": [
        {
          "output_type": "execute_result",
          "data": {
            "text/plain": [
              "array([  57.,   11.,   nan,   18.,   52.,   15.,   12.,   32.,   10.,\n",
              "         34.,   30.,   60.,   33.,   29.,   54.,   41.,   37.,   19.,\n",
              "         25.,   69.,   38.,   55.,   35.,   45., 2000.,   28.,   20.,\n",
              "         24.,   26.,   49.,   14.,   22.,    7.,   31.,   17.,   40.,\n",
              "         13.,   42.,    3.,   50.,   46.,   16.,   82.,   48.,   21.,\n",
              "         51.,   39.,   58., 1000.,   47.,   61.,   65.,   73.,   36.,\n",
              "         66.,   43.,    9.,   72.,   59.,    6.,   64.,   23.,   71.,\n",
              "         44.,   27.,   62.,   68.,   63.,   70.,   53.,    8.,   77.,\n",
              "         74.,   56., 2002.,    5.,   86., 2003.,   84.,   87.,   75.,\n",
              "       1002., 3000.,   81.,   78.])"
            ]
          },
          "metadata": {},
          "execution_count": 93
        }
      ]
    },
    {
      "cell_type": "code",
      "source": [
        "seventeen_or_younger = df3[df3 < 18]\n",
        "seventeen_or_younger\n",
        "\n",
        "#In 847 van de gevallen is het slachtoffer van een haaienaanval jonger dan 18 jaar"
      ],
      "metadata": {
        "colab": {
          "base_uri": "https://localhost:8080/"
        },
        "id": "myRjy3lEPKSm",
        "outputId": "e2eebb87-d7d1-44e3-d74e-8881ae5ef4ba"
      },
      "execution_count": 94,
      "outputs": [
        {
          "output_type": "execute_result",
          "data": {
            "text/plain": [
              "1       11.0\n",
              "8       15.0\n",
              "9       12.0\n",
              "11      10.0\n",
              "12      10.0\n",
              "        ... \n",
              "6189    15.0\n",
              "6242     6.0\n",
              "6243    16.0\n",
              "6276    16.0\n",
              "6301    15.0\n",
              "Name: Age_recode2, Length: 847, dtype: float64"
            ]
          },
          "metadata": {},
          "execution_count": 94
        }
      ]
    },
    {
      "cell_type": "code",
      "source": [
        "#Naar idee van: https://www.statology.org/numpy-filter/\n",
        "\n",
        "eighteen_and_older = df3[(df3 >= 18) & (df3 <= 999)]\n",
        "eighteen_and_older\n",
        "\n",
        "#In 2248 van de gevallen is het slachtoffer van de haaienaanval 18 jaar of ouder."
      ],
      "metadata": {
        "colab": {
          "base_uri": "https://localhost:8080/"
        },
        "id": "nGjdwTxKfFe3",
        "outputId": "0279f6a9-008c-49ce-8a49-315688ac373e"
      },
      "execution_count": 95,
      "outputs": [
        {
          "output_type": "execute_result",
          "data": {
            "text/plain": [
              "0       57.0\n",
              "6       18.0\n",
              "7       52.0\n",
              "10      32.0\n",
              "14      34.0\n",
              "        ... \n",
              "6226    19.0\n",
              "6238    27.0\n",
              "6239    36.0\n",
              "6241    25.0\n",
              "6254    50.0\n",
              "Name: Age_recode2, Length: 2248, dtype: float64"
            ]
          },
          "metadata": {},
          "execution_count": 95
        }
      ]
    },
    {
      "cell_type": "code",
      "source": [
        "remaining_cases = df3[df3 >= 1000]\n",
        "remaining_cases.value_counts()"
      ],
      "metadata": {
        "colab": {
          "base_uri": "https://localhost:8080/"
        },
        "id": "G9vC6uPRnHc2",
        "outputId": "5b3dd025-8a02-4418-9260-e98959bdc4d2"
      },
      "execution_count": 97,
      "outputs": [
        {
          "output_type": "execute_result",
          "data": {
            "text/plain": [
              "2000.0    44\n",
              "1000.0    21\n",
              "2002.0    10\n",
              "1002.0     3\n",
              "2003.0     1\n",
              "3000.0     1\n",
              "Name: Age_recode2, dtype: int64"
            ]
          },
          "metadata": {},
          "execution_count": 97
        }
      ]
    },
    {
      "cell_type": "code",
      "source": [
        "#kinderen (+1 op het laatst omdat er één geval is met zowel een kind als een volwassene)\n",
        "print(21 * 1 + 3 * 2 + 1)\n",
        "\n",
        "#volwassenen (+1 op het laatst omdat er één geval is met zowel een kind als een volwassene)\n",
        "print(44 * 1 + 10 * 2 + 3 * 1 + 1)\n"
      ],
      "metadata": {
        "colab": {
          "base_uri": "https://localhost:8080/"
        },
        "id": "ewadyuMih1LL",
        "outputId": "d7498f01-b678-4e98-a2a7-a22ddcdc4d39"
      },
      "execution_count": 98,
      "outputs": [
        {
          "output_type": "stream",
          "name": "stdout",
          "text": [
            "28\n",
            "68\n"
          ]
        }
      ]
    },
    {
      "cell_type": "code",
      "source": [
        "#Totaal aantal personen wat is aangevallen door een haai\n",
        "print(847 + 2248 + 28 + 68)  "
      ],
      "metadata": {
        "colab": {
          "base_uri": "https://localhost:8080/"
        },
        "id": "0Wt_9pFGRVKi",
        "outputId": "f975db3c-9507-4f3b-9386-8d6fb2b5e9cc"
      },
      "execution_count": 99,
      "outputs": [
        {
          "output_type": "stream",
          "name": "stdout",
          "text": [
            "3191\n"
          ]
        }
      ]
    },
    {
      "cell_type": "code",
      "source": [
        "#aantal kinderen wat is aangevallen door een haai\n",
        "print(847 + 28)"
      ],
      "metadata": {
        "colab": {
          "base_uri": "https://localhost:8080/"
        },
        "id": "wZd4RlTwSx53",
        "outputId": "fcdb3991-4353-4ad1-da52-e5e4b1dc58a9"
      },
      "execution_count": null,
      "outputs": [
        {
          "output_type": "stream",
          "name": "stdout",
          "text": [
            "936\n"
          ]
        }
      ]
    },
    {
      "cell_type": "code",
      "source": [
        "#aantal volwassenen wat is aangevallen door een haai\n",
        "print(2248 + 68)"
      ],
      "metadata": {
        "colab": {
          "base_uri": "https://localhost:8080/"
        },
        "id": "CyseIXt0TnaU",
        "outputId": "679bdc20-6daa-4a71-d6d6-6bcda959307f"
      },
      "execution_count": null,
      "outputs": [
        {
          "output_type": "stream",
          "name": "stdout",
          "text": [
            "2543\n"
          ]
        }
      ]
    },
    {
      "cell_type": "code",
      "source": [
        "print(936 / 3191 * 100)\n",
        "#In 29.3% van de gevallen is een kind aangevallen door een haai."
      ],
      "metadata": {
        "colab": {
          "base_uri": "https://localhost:8080/"
        },
        "id": "KHVHk_2eSx-s",
        "outputId": "050fe200-6b63-4bfc-9139-874b31ef35c9"
      },
      "execution_count": 100,
      "outputs": [
        {
          "output_type": "stream",
          "name": "stdout",
          "text": [
            "29.33249764963961\n"
          ]
        }
      ]
    },
    {
      "cell_type": "code",
      "source": [
        "print(2543 / 3191 * 100)\n",
        "#In 79,7% van de gevallen is een volwassene aangevallen door een haai."
      ],
      "metadata": {
        "colab": {
          "base_uri": "https://localhost:8080/"
        },
        "id": "_0lzC__iVEi9",
        "outputId": "b6d0048f-f429-4315-8395-9747c70ffc25"
      },
      "execution_count": 101,
      "outputs": [
        {
          "output_type": "stream",
          "name": "stdout",
          "text": [
            "79.6928862425572\n"
          ]
        }
      ]
    },
    {
      "cell_type": "markdown",
      "source": [
        "In 29.3% van de gevallen is een kind aangevallen door een haai.\n",
        "\n",
        "In 79,7% van de gevallen is een volwassene aangevallen door een haai.\n",
        "\n",
        "Er lijkt dus geen aanleiding om aan te nemen dat kinderen vaker worden getroffen door haaienaanvallen dan volwassenen.\n",
        "\n",
        "Echter, kijk ik nu puur naar de percentages. Eigenlijk zouden we moeten kijken of de verdeling van de aanvallen voor zowel kinderen als volwassenen 'normaal' verdeeld zijn. Dat doe ik nu niet omdat we daar in de opleiding nog niet wat over hebben geleerd.\n"
      ],
      "metadata": {
        "id": "lhOnUAXfV4aL"
      }
    },
    {
      "cell_type": "markdown",
      "source": [
        "\n",
        "# **3. Are shark attacks where sharks were provoked more or less dangerous?**"
      ],
      "metadata": {
        "id": "9MVVqh6DWzqI"
      }
    },
    {
      "cell_type": "code",
      "source": [
        "#df6 = df2a.astype({\"Injury\": str})\n",
        "#df6.dtypes\n",
        "#df6['Injury'].value_counts(dropna=False)"
      ],
      "metadata": {
        "id": "aGIMw1GEbmIo"
      },
      "execution_count": 102,
      "outputs": []
    },
    {
      "cell_type": "code",
      "source": [
        "df7 = df6\n",
        "\n",
        "df7"
      ],
      "metadata": {
        "id": "Cmb_3up0XkbP"
      },
      "execution_count": null,
      "outputs": []
    },
    {
      "cell_type": "code",
      "source": [
        "df7['Fatal (Y/N)'].unique()"
      ],
      "metadata": {
        "colab": {
          "base_uri": "https://localhost:8080/"
        },
        "id": "w6ZYGLL07agV",
        "outputId": "372c2a0e-d376-4ed6-e92f-b062ca17e8b7"
      },
      "execution_count": 104,
      "outputs": [
        {
          "output_type": "execute_result",
          "data": {
            "text/plain": [
              "array(['N', 'Y', nan, 'M', 'UNKNOWN', '2017', ' N', 'N ', 'y'],\n",
              "      dtype=object)"
            ]
          },
          "metadata": {},
          "execution_count": 104
        }
      ]
    },
    {
      "cell_type": "code",
      "source": [
        "df7['Type'].unique()"
      ],
      "metadata": {
        "colab": {
          "base_uri": "https://localhost:8080/"
        },
        "id": "k3UsbPDTrRo3",
        "outputId": "6dda9f29-e188-4837-e6c9-9b91746c433e"
      },
      "execution_count": 105,
      "outputs": [
        {
          "output_type": "execute_result",
          "data": {
            "text/plain": [
              "array(['Boating', 'Unprovoked', 'Invalid', 'Provoked', 'Questionable',\n",
              "       'Sea Disaster', nan, 'Boat', 'Boatomg'], dtype=object)"
            ]
          },
          "metadata": {},
          "execution_count": 105
        }
      ]
    },
    {
      "cell_type": "markdown",
      "source": [
        "Om de vraag \"Are shark attacks where sharks were provoked more or less dangerous?\" te beantwoorden, ga ik kijken of provoked incidents (m.a.w. provoked shark attacks) vaker leiden tot fatale incidenten, dan unprovoked incidents.\n",
        "\n",
        "Er blijken verschillende waarden te zijn in de kolom 'Fatal (Y/N)'.\n",
        "\n",
        "De waarden '2017' en 'm' blijken bij nadere inspectie van andere kolomwaarden te staan voor 'n'. Die waarden en de andere 'n' en 'y' waardes gaan we recoden naar 'n' en 'y'.  \n",
        "\n",
        "De np.nan waardes in deze kolom beschouwen we als missing value, en gaan we 'droppen'/ weglaten. Hiermee lopen we het risico dat we onterecht enkele rijen niet meenemen in onze analayse, bijvoorbeeld omdat daar in werkelijkheid wél iemand is overleden. Echter, hebben we geen manier om voor elke rij na te gaan of de informatie klopt en als we wel alle rijen zouden moeten nagaan dan kost dit enorm veel tijd. Daarom kiezen we er bewust voor om de np.nan waardes te droppen, ook al heeft dit misschien (geringe) invloed op de validiteit van onze onderzoeksresultaten.\n",
        "\n",
        "In de kolom 'Type' zie je onder andere 'boat' en 'boating'. Dat betekent dat er een haaienaanval of incident heeft plaatsgevonden terwijl de slachtoffers zich in een boot bevonden. In veruit de meeste gevallen waarbij de slachtoffers zich in een boot bevinden, loopt het incident NIET fataal af. Dat heeft er denk ik mee te maken dat een boot bescherming bied tegen een haaienaanvaal, en al helemaal als het een behoorlijke boot is. \n",
        "\n",
        "De boat en boating incidenten laat ik daarom buiten beschouwing, omdat ik denk dat die een bias in de onderzoeksresultaten kunnen opleveren t.o.v. de incidenten waarbij de slachtoffers zich niet in een boot bevonden.\n",
        "\n",
        "Daarnaast laat ik de 'questionable' en np.nan gevallen buiten beschouwing,omdat daarbij niet vaststaat of het daadwerkelijk om een incident ging waarbij haaien betrokken waren. De 'sea disaster' gevallen laat ik uiteraard ook buiten beschouwing, want hierbij gaat het niet om een haaienaanval."
      ],
      "metadata": {
        "id": "601U1gNT22D0"
      }
    },
    {
      "cell_type": "code",
      "source": [
        "df7['Fatal (Y/N)'] = df7['Fatal (Y/N)'].str.lower()\n",
        "df7"
      ],
      "metadata": {
        "id": "bj1it7GbBKQ5"
      },
      "execution_count": null,
      "outputs": []
    },
    {
      "cell_type": "code",
      "source": [
        "df7['Fatal (Y/N)'].unique()"
      ],
      "metadata": {
        "colab": {
          "base_uri": "https://localhost:8080/"
        },
        "id": "b7d_UzTiCCXa",
        "outputId": "f6f4d3da-6fd9-4481-a148-b0e8e6747e2c"
      },
      "execution_count": 107,
      "outputs": [
        {
          "output_type": "execute_result",
          "data": {
            "text/plain": [
              "array(['n', 'y', nan, 'm', 'unknown', '2017', ' n', 'n '], dtype=object)"
            ]
          },
          "metadata": {},
          "execution_count": 107
        }
      ]
    },
    {
      "cell_type": "code",
      "source": [
        "dict_fatal_new = {'n': 'n', 'y': 'y', 'm': 'n', 'unknown': np.nan, '2017': 'n', ' n': 'n', 'n ': 'n'}\n",
        "\n",
        "df8 = df7.replace({'Fatal (Y/N)': dict_fatal_new})"
      ],
      "metadata": {
        "id": "YhgvNKqdEXx7"
      },
      "execution_count": 108,
      "outputs": []
    },
    {
      "cell_type": "code",
      "source": [
        "df8['Fatal (Y/N)'].unique()"
      ],
      "metadata": {
        "colab": {
          "base_uri": "https://localhost:8080/"
        },
        "id": "fSTfTk1SGpT4",
        "outputId": "e533f8fe-663a-46b6-e8df-218a4ddf74b9"
      },
      "execution_count": 109,
      "outputs": [
        {
          "output_type": "execute_result",
          "data": {
            "text/plain": [
              "array(['n', 'y', nan], dtype=object)"
            ]
          },
          "metadata": {},
          "execution_count": 109
        }
      ]
    },
    {
      "cell_type": "code",
      "source": [
        "df8a = df8[df8['Fatal (Y/N)'].notna()]\n",
        "df8a['Fatal (Y/N)'].unique()"
      ],
      "metadata": {
        "id": "h7wdbjDuG6kO",
        "colab": {
          "base_uri": "https://localhost:8080/"
        },
        "outputId": "faac231e-f1fa-46ff-b08a-8eec6f8fdece"
      },
      "execution_count": 110,
      "outputs": [
        {
          "output_type": "execute_result",
          "data": {
            "text/plain": [
              "array(['n', 'y'], dtype=object)"
            ]
          },
          "metadata": {},
          "execution_count": 110
        }
      ]
    },
    {
      "cell_type": "code",
      "source": [
        "df8a"
      ],
      "metadata": {
        "id": "9vCY4_GHe-ZF"
      },
      "execution_count": null,
      "outputs": []
    },
    {
      "cell_type": "code",
      "source": [
        "#df7['Fatal (Y/N)'][df7['Fatal (Y/N)'].str.contains('2017')] = 'N'\n",
        "#df7['Fatal (Y/N)'][df7['Fatal (Y/N)'].str.contains('M')] = 'N'"
      ],
      "metadata": {
        "id": "pmdTbSYt_HBl"
      },
      "execution_count": null,
      "outputs": []
    },
    {
      "cell_type": "code",
      "source": [
        "df9 = df8a[(df8a['Type'] == 'Unprovoked') | (df8a['Type'] == 'Provoked')]\n",
        "df9['Type'].unique()"
      ],
      "metadata": {
        "id": "wXnxYBG97iMZ",
        "colab": {
          "base_uri": "https://localhost:8080/"
        },
        "outputId": "fcc9a80d-9926-43e0-eb3e-67166f7d93ec"
      },
      "execution_count": 112,
      "outputs": [
        {
          "output_type": "execute_result",
          "data": {
            "text/plain": [
              "array(['Unprovoked', 'Provoked'], dtype=object)"
            ]
          },
          "metadata": {},
          "execution_count": 112
        }
      ]
    },
    {
      "cell_type": "code",
      "source": [
        "df9['Type'].value_counts()\n",
        "#5101 total"
      ],
      "metadata": {
        "colab": {
          "base_uri": "https://localhost:8080/"
        },
        "id": "NWO0pT64fO7o",
        "outputId": "744c60f4-c5c5-44c1-de1f-6cdbbca85870"
      },
      "execution_count": 113,
      "outputs": [
        {
          "output_type": "execute_result",
          "data": {
            "text/plain": [
              "Unprovoked    4532\n",
              "Provoked       569\n",
              "Name: Type, dtype: int64"
            ]
          },
          "metadata": {},
          "execution_count": 113
        }
      ]
    },
    {
      "cell_type": "code",
      "source": [
        "df9['Fatal (Y/N)'].value_counts()\n",
        "#5101"
      ],
      "metadata": {
        "colab": {
          "base_uri": "https://localhost:8080/"
        },
        "id": "A1Xvy8jRf2S8",
        "outputId": "95454043-a7dd-4be8-8c4a-ec5f3dbcccc0"
      },
      "execution_count": null,
      "outputs": [
        {
          "output_type": "execute_result",
          "data": {
            "text/plain": [
              "n    3901\n",
              "y    1200\n",
              "Name: Fatal (Y/N), dtype: int64"
            ]
          },
          "metadata": {},
          "execution_count": 70
        }
      ]
    },
    {
      "cell_type": "code",
      "source": [
        "provocation_fatality = pd.crosstab(index=df9[\"Type\"], \n",
        "                           columns=df9[\"Fatal (Y/N)\"])\n",
        "\n",
        "provocation_fatality.index= [\"Provoked\",\"Unprovoked\"]\n",
        "provocation_fatality.columns= [\"Non-fatal\", \"Fatal\"]\n",
        "\n",
        "provocation_fatality\n",
        "\n",
        "#source voor implementatie van de two-way frequency table: https://www.kaggle.com/code/hamelg/python-for-data-19-frequency-tables/notebook"
      ],
      "metadata": {
        "colab": {
          "base_uri": "https://localhost:8080/",
          "height": 132
        },
        "id": "4trirSWHilEH",
        "outputId": "9556e894-841a-4dba-c424-40925370995d"
      },
      "execution_count": null,
      "outputs": [
        {
          "output_type": "execute_result",
          "data": {
            "text/plain": [
              "            Non-fatal  Fatal\n",
              "Provoked          550     19\n",
              "Unprovoked       3351   1181"
            ],
            "text/html": [
              "\n",
              "  <div id=\"df-83c6385b-ccac-4f7d-aee4-194553c1c60f\">\n",
              "    <div class=\"colab-df-container\">\n",
              "      <div>\n",
              "<style scoped>\n",
              "    .dataframe tbody tr th:only-of-type {\n",
              "        vertical-align: middle;\n",
              "    }\n",
              "\n",
              "    .dataframe tbody tr th {\n",
              "        vertical-align: top;\n",
              "    }\n",
              "\n",
              "    .dataframe thead th {\n",
              "        text-align: right;\n",
              "    }\n",
              "</style>\n",
              "<table border=\"1\" class=\"dataframe\">\n",
              "  <thead>\n",
              "    <tr style=\"text-align: right;\">\n",
              "      <th></th>\n",
              "      <th>Non-fatal</th>\n",
              "      <th>Fatal</th>\n",
              "    </tr>\n",
              "  </thead>\n",
              "  <tbody>\n",
              "    <tr>\n",
              "      <th>Provoked</th>\n",
              "      <td>550</td>\n",
              "      <td>19</td>\n",
              "    </tr>\n",
              "    <tr>\n",
              "      <th>Unprovoked</th>\n",
              "      <td>3351</td>\n",
              "      <td>1181</td>\n",
              "    </tr>\n",
              "  </tbody>\n",
              "</table>\n",
              "</div>\n",
              "      <button class=\"colab-df-convert\" onclick=\"convertToInteractive('df-83c6385b-ccac-4f7d-aee4-194553c1c60f')\"\n",
              "              title=\"Convert this dataframe to an interactive table.\"\n",
              "              style=\"display:none;\">\n",
              "        \n",
              "  <svg xmlns=\"http://www.w3.org/2000/svg\" height=\"24px\"viewBox=\"0 0 24 24\"\n",
              "       width=\"24px\">\n",
              "    <path d=\"M0 0h24v24H0V0z\" fill=\"none\"/>\n",
              "    <path d=\"M18.56 5.44l.94 2.06.94-2.06 2.06-.94-2.06-.94-.94-2.06-.94 2.06-2.06.94zm-11 1L8.5 8.5l.94-2.06 2.06-.94-2.06-.94L8.5 2.5l-.94 2.06-2.06.94zm10 10l.94 2.06.94-2.06 2.06-.94-2.06-.94-.94-2.06-.94 2.06-2.06.94z\"/><path d=\"M17.41 7.96l-1.37-1.37c-.4-.4-.92-.59-1.43-.59-.52 0-1.04.2-1.43.59L10.3 9.45l-7.72 7.72c-.78.78-.78 2.05 0 2.83L4 21.41c.39.39.9.59 1.41.59.51 0 1.02-.2 1.41-.59l7.78-7.78 2.81-2.81c.8-.78.8-2.07 0-2.86zM5.41 20L4 18.59l7.72-7.72 1.47 1.35L5.41 20z\"/>\n",
              "  </svg>\n",
              "      </button>\n",
              "      \n",
              "  <style>\n",
              "    .colab-df-container {\n",
              "      display:flex;\n",
              "      flex-wrap:wrap;\n",
              "      gap: 12px;\n",
              "    }\n",
              "\n",
              "    .colab-df-convert {\n",
              "      background-color: #E8F0FE;\n",
              "      border: none;\n",
              "      border-radius: 50%;\n",
              "      cursor: pointer;\n",
              "      display: none;\n",
              "      fill: #1967D2;\n",
              "      height: 32px;\n",
              "      padding: 0 0 0 0;\n",
              "      width: 32px;\n",
              "    }\n",
              "\n",
              "    .colab-df-convert:hover {\n",
              "      background-color: #E2EBFA;\n",
              "      box-shadow: 0px 1px 2px rgba(60, 64, 67, 0.3), 0px 1px 3px 1px rgba(60, 64, 67, 0.15);\n",
              "      fill: #174EA6;\n",
              "    }\n",
              "\n",
              "    [theme=dark] .colab-df-convert {\n",
              "      background-color: #3B4455;\n",
              "      fill: #D2E3FC;\n",
              "    }\n",
              "\n",
              "    [theme=dark] .colab-df-convert:hover {\n",
              "      background-color: #434B5C;\n",
              "      box-shadow: 0px 1px 3px 1px rgba(0, 0, 0, 0.15);\n",
              "      filter: drop-shadow(0px 1px 2px rgba(0, 0, 0, 0.3));\n",
              "      fill: #FFFFFF;\n",
              "    }\n",
              "  </style>\n",
              "\n",
              "      <script>\n",
              "        const buttonEl =\n",
              "          document.querySelector('#df-83c6385b-ccac-4f7d-aee4-194553c1c60f button.colab-df-convert');\n",
              "        buttonEl.style.display =\n",
              "          google.colab.kernel.accessAllowed ? 'block' : 'none';\n",
              "\n",
              "        async function convertToInteractive(key) {\n",
              "          const element = document.querySelector('#df-83c6385b-ccac-4f7d-aee4-194553c1c60f');\n",
              "          const dataTable =\n",
              "            await google.colab.kernel.invokeFunction('convertToInteractive',\n",
              "                                                     [key], {});\n",
              "          if (!dataTable) return;\n",
              "\n",
              "          const docLinkHtml = 'Like what you see? Visit the ' +\n",
              "            '<a target=\"_blank\" href=https://colab.research.google.com/notebooks/data_table.ipynb>data table notebook</a>'\n",
              "            + ' to learn more about interactive tables.';\n",
              "          element.innerHTML = '';\n",
              "          dataTable['output_type'] = 'display_data';\n",
              "          await google.colab.output.renderOutput(dataTable, element);\n",
              "          const docLink = document.createElement('div');\n",
              "          docLink.innerHTML = docLinkHtml;\n",
              "          element.appendChild(docLink);\n",
              "        }\n",
              "      </script>\n",
              "    </div>\n",
              "  </div>\n",
              "  "
            ],
            "application/vnd.google.colaboratory.module+javascript": "\n      import \"https://ssl.gstatic.com/colaboratory/data_table/a8bd4d5e58f96183/data_table.js\";\n\n      window.createDataTable({\n        data: [[\"Provoked\",\n{\n            'v': 550,\n            'f': \"550\",\n        },\n{\n            'v': 19,\n            'f': \"19\",\n        }],\n [\"Unprovoked\",\n{\n            'v': 3351,\n            'f': \"3351\",\n        },\n{\n            'v': 1181,\n            'f': \"1181\",\n        }]],\n        columns: [[\"string\", \"index\"], [\"number\", \"Non-fatal\"], [\"number\", \"Fatal\"]],\n        columnOptions: [{\"width\": \"1px\", \"className\": \"index_column\"}],\n        rowsPerPage: 25,\n        helpUrl: \"https://colab.research.google.com/notebooks/data_table.ipynb\",\n        suppressOutputScrolling: true,\n        minimumWidth: undefined,\n      });\n    "
          },
          "metadata": {},
          "execution_count": 75
        }
      ]
    },
    {
      "cell_type": "code",
      "source": [
        "#Provoked & fatal\n",
        "print(19/550 * 100)\n",
        "\n",
        "#Unprovoked & fatal\n",
        "print(1181/3351*100)"
      ],
      "metadata": {
        "colab": {
          "base_uri": "https://localhost:8080/"
        },
        "id": "k9FCe8rNk5_X",
        "outputId": "ea27548c-01ed-4f92-d414-9f544f493c72"
      },
      "execution_count": 114,
      "outputs": [
        {
          "output_type": "stream",
          "name": "stdout",
          "text": [
            "3.4545454545454546\n",
            "35.24321098179648\n"
          ]
        }
      ]
    },
    {
      "cell_type": "markdown",
      "source": [
        "Uit de bovenstaande berekening lijkt het er op  dat haaienaanvallen waarbij de haai wordt uitgedaagd (provoked) relatief NIET meer slachtoffers vallen, dan bij haaienaanvallen waarbij de haai niet wordt uitgedaagd.\n",
        "\n",
        "In tegendeel, bij haaienaanvallen waarbij de haai niet wordt uitgedaagd vallen relatief vaker doden  (35,2%) dan bij haaienvallen waarbij de haai wél is uitgedaagd (3.5%). Daarom lijkt het aannemelijker dat andere factoren een belangrijkere rol spelen in de afloop (d.w.z. de fataliteit) van het incident. Wellicht speelt de haaiensoort een belangrijkere rol, of de plaats waar het incident plaatsvindt (dichtbij de kust v.s. ver in open zee)."
      ],
      "metadata": {
        "id": "7B57Nstil_kH"
      }
    },
    {
      "cell_type": "markdown",
      "source": [
        "# **4. Are certain activities more likely to result in a shark attack?**"
      ],
      "metadata": {
        "id": "7SqHhA8IdDZO"
      }
    },
    {
      "cell_type": "markdown",
      "source": [
        "Allereerst begin ik door opnieuw te kijken naar de waarden in de 'Type' kolom. \n",
        "\n",
        "We willen alleen valid cases, dus we 'droppen' de rijen die 'Invalid' en questionable als waarde hebben en de Nan's. \n",
        "Dit betekent dat we enkele gevallen onterecht rijen zullen verwijderen, en wellicht hierdoor een bias creëren in de analyse. Dit is dus een beperking van dit onderzoek. Echter gaat het om zoveel rijen dat het niet mogelijk is om deze één-voor-één af te gaan, en om ze allemaal handmatig te controleren. Vandaar dat we deze beperking op de koop toenemen.\n",
        "\n",
        "Ook de rijen met 'Sea Disaster' droppen we, want we zijn alleen geïnteresseerd in haaienaanvallen.\n",
        "\n",
        "Rijen met boating, boat en boatomg (m.a.w. varen in een boot) nemen we wel mee. Het is namelijk goed om na te gaan of dit een activiteit is waarbij vaak haaienaanvallen plaatsvinden.\n",
        "\n"
      ],
      "metadata": {
        "id": "oGj21ksphluH"
      }
    },
    {
      "cell_type": "code",
      "source": [
        "df10['Type'].unique()\n",
        "#We willen alleen valid cases, dus we 'droppen' de rijen die 'Invalid' en questionable als waarde hebben en de Nan's. \n",
        "#Dit betekent dat we enkele gevallen onterecht rijen zullen verwijderen, en wellicht hierdoor een bias creëren in de analyse. Echter gaat het om zoveel rijen dat het\n",
        "\n",
        "#ook de rijen met 'Sea Disaster' droppen we, want we zijn alleen geïnteresseerd in haaien aanvallen. \n",
        "#Rijen met boating, boat en boatomg nemen we wél mee"
      ],
      "metadata": {
        "colab": {
          "base_uri": "https://localhost:8080/"
        },
        "id": "fsyrID8-fpYs",
        "outputId": "28cccb18-2a89-4e7f-a39b-410b64e3e126"
      },
      "execution_count": 24,
      "outputs": [
        {
          "output_type": "execute_result",
          "data": {
            "text/plain": [
              "array(['Boating', 'Unprovoked', 'Invalid', 'Provoked', 'Questionable',\n",
              "       'Sea Disaster', nan, 'Boat', 'Boatomg'], dtype=object)"
            ]
          },
          "metadata": {},
          "execution_count": 24
        }
      ]
    },
    {
      "cell_type": "code",
      "source": [
        "df11 = df10[(df10['Type'] == 'Unprovoked') | (df10['Type'] == 'Provoked') | (df10['Type'] == 'Boating') | (df10['Type'] == 'Boat') | (df10['Type'] == 'Boatomg')]\n",
        "df11['Type'].unique()"
      ],
      "metadata": {
        "colab": {
          "base_uri": "https://localhost:8080/"
        },
        "id": "9oWZWndVlcY6",
        "outputId": "c97f2229-144e-468d-affa-04661b5ee2e6"
      },
      "execution_count": 28,
      "outputs": [
        {
          "output_type": "execute_result",
          "data": {
            "text/plain": [
              "array(['Boating', 'Unprovoked', 'Provoked', 'Boat', 'Boatomg'],\n",
              "      dtype=object)"
            ]
          },
          "metadata": {},
          "execution_count": 28
        }
      ]
    },
    {
      "cell_type": "code",
      "source": [
        "pd.set_option(\"display.max_rows\", None, \"display.max_columns\", None)\n",
        "#list(df10['Activity'].unique())\n",
        "\n",
        "\n",
        "df11['Activity'].value_counts()\n",
        "\n"
      ],
      "metadata": {
        "id": "0Ou4Ws6_dTKR"
      },
      "execution_count": null,
      "outputs": []
    },
    {
      "cell_type": "markdown",
      "source": [
        "Surfen en zwemmen lijken -met afstand- de activiteiten te zijn waarbij een haaienaanval het vaakst voorkomt (Surfing heeft namelijk 928 waarnemingen, swimming 779 en fishing als derde inde lijst 'slechts' 409 keer). Wel worden er verschillende vormen van surfen genoemd in de lijst, zoals windsurfing.  Er zijn ook verschillende vormen van zwemmen zoals 'freedom swimming' wat pakweg 10x wordt genoemd. \n",
        "\n",
        "De verschillende vormen van zwemmen zoals freedom swimming zou je onder de term 'swimming'kunnen scharen, maar dat doen we niet omdat er ook vormen van swimming in de lijst staan waarbij het minder duidelijk is of het om dezelfde soort activiteit gaat, zoals body surfing(hierbij is je lichaam de surfplank...). Hetzelfde geldt voor swimming. Je zou body surfing als een vorm van swimming kunnen beschouwen. Laten we deze activiteiten daarom niet op een hoop gooien.\n",
        "\n",
        "\n",
        "Ook bij de activiteit 'fishing' komen haaienaanvallen vaak voor. Wel moeten we hierbij onderscheid maken tussen fishing en spear fishing wat twee totaal verschillende activiteiten zijn. Bij spear fishing bevindt de persoon zich namelijk in het water met een speer.\n",
        "\n",
        "Boating wordt in de 'Activity' kolom niet vaak genoemd, maar 17 keer. Echter vinden wel veel aanvallen plaats terwijl mensen zich in een boot bevinden. Dat vind ik belangrijk om er bij te noemen, omdat dit niet uit de 'Activity' kolom blijkt. Dat blijkt namelijk wél uit de analyse hieronder."
      ],
      "metadata": {
        "id": "-CJg5vVPplPb"
      }
    },
    {
      "cell_type": "code",
      "source": [
        "df11['Type'].value_counts()\n",
        "df11"
      ],
      "metadata": {
        "id": "LgDf6pJ25h_r"
      },
      "execution_count": null,
      "outputs": []
    },
    {
      "cell_type": "markdown",
      "source": [
        "Een haaienaanval komt relatief redelijk vaak voor als mensen zich in een boot. Dit kun je zien door de datatable handmatig te sorteren op de kolom 'Type'. Op de eerste 14 pagina's (met ieder 25 resultaten) zie je dan incidenten waarbij de personen zich in een boot bevonden. Er is dus een overlap tussen de activity 'fishing' en de kolom 'Type'='boat'. Maar: niet iedereen die vist zit in een boot, en niet iedereen die in een boot zit is aan het vissen; sommigen zijn bijvoorbeeld aan het kanoën."
      ],
      "metadata": {
        "id": "vrASIvVXBuu9"
      }
    }
  ]
}